{
 "cells": [
  {
   "cell_type": "code",
   "execution_count": 1,
   "metadata": {},
   "outputs": [
    {
     "data": {
      "text/html": [
       "<style>.container { width:100% !important; }</style>"
      ],
      "text/plain": [
       "<IPython.core.display.HTML object>"
      ]
     },
     "metadata": {},
     "output_type": "display_data"
    }
   ],
   "source": [
    "import pandas as pd\n",
    "import glob\n",
    "import matplotlib.pyplot as plt\n",
    "import japanize_matplotlib\n",
    "%matplotlib inline\n",
    "from IPython.core.display import display, HTML\n",
    "display(HTML(\"<style>.container { width:100% !important; }</style>\"))"
   ]
  },
  {
   "cell_type": "code",
   "execution_count": 2,
   "metadata": {},
   "outputs": [],
   "source": [
    "import random\n",
    "import os\n",
    "import numpy as np\n",
    "\n",
    "\n",
    "def seed_everything(seed=777):\n",
    "    random.seed(seed)\n",
    "    os.environ['PYTHONHASHSEED'] = str(seed)\n",
    "    np.random.seed(seed)\n",
    "\n",
    "seed_everything()"
   ]
  },
  {
   "cell_type": "code",
   "execution_count": 3,
   "metadata": {},
   "outputs": [],
   "source": [
    "res = []\n",
    "for file_path in glob.glob('../data/*.csv'):\n",
    "    res.append(pd.read_csv(file_path))\n",
    "df = pd.concat(res).sort_values('datetime').reset_index(drop=True)"
   ]
  },
  {
   "cell_type": "code",
   "execution_count": 4,
   "metadata": {},
   "outputs": [
    {
     "data": {
      "text/html": [
       "<div>\n",
       "<style scoped>\n",
       "    .dataframe tbody tr th:only-of-type {\n",
       "        vertical-align: middle;\n",
       "    }\n",
       "\n",
       "    .dataframe tbody tr th {\n",
       "        vertical-align: top;\n",
       "    }\n",
       "\n",
       "    .dataframe thead th {\n",
       "        text-align: right;\n",
       "    }\n",
       "</style>\n",
       "<table border=\"1\" class=\"dataframe\">\n",
       "  <thead>\n",
       "    <tr style=\"text-align: right;\">\n",
       "      <th></th>\n",
       "      <th>wrestler</th>\n",
       "      <th>day_1</th>\n",
       "      <th>day_2</th>\n",
       "      <th>day_3</th>\n",
       "      <th>day_4</th>\n",
       "      <th>day_5</th>\n",
       "      <th>day_6</th>\n",
       "      <th>day_7</th>\n",
       "      <th>day_8</th>\n",
       "      <th>day_9</th>\n",
       "      <th>day_10</th>\n",
       "      <th>day_11</th>\n",
       "      <th>day_12</th>\n",
       "      <th>day_13</th>\n",
       "      <th>day_14</th>\n",
       "      <th>day_15</th>\n",
       "      <th>final_opponent</th>\n",
       "      <th>datetime</th>\n",
       "    </tr>\n",
       "  </thead>\n",
       "  <tbody>\n",
       "    <tr>\n",
       "      <th>0</th>\n",
       "      <td>蒼樹山</td>\n",
       "      <td>0</td>\n",
       "      <td>1.0</td>\n",
       "      <td>0.0</td>\n",
       "      <td>0.0</td>\n",
       "      <td>0.0</td>\n",
       "      <td>0.0</td>\n",
       "      <td>1.0</td>\n",
       "      <td>0.0</td>\n",
       "      <td>1.0</td>\n",
       "      <td>1.0</td>\n",
       "      <td>0.0</td>\n",
       "      <td>0.0</td>\n",
       "      <td>0.0</td>\n",
       "      <td>0.0</td>\n",
       "      <td>NaN</td>\n",
       "      <td>NaN</td>\n",
       "      <td>200001</td>\n",
       "    </tr>\n",
       "    <tr>\n",
       "      <th>1</th>\n",
       "      <td>金開山</td>\n",
       "      <td>1</td>\n",
       "      <td>0.0</td>\n",
       "      <td>0.0</td>\n",
       "      <td>1.0</td>\n",
       "      <td>1.0</td>\n",
       "      <td>0.0</td>\n",
       "      <td>1.0</td>\n",
       "      <td>1.0</td>\n",
       "      <td>0.0</td>\n",
       "      <td>0.0</td>\n",
       "      <td>1.0</td>\n",
       "      <td>0.0</td>\n",
       "      <td>0.0</td>\n",
       "      <td>0.0</td>\n",
       "      <td>0.0</td>\n",
       "      <td>和歌乃山</td>\n",
       "      <td>200001</td>\n",
       "    </tr>\n",
       "    <tr>\n",
       "      <th>2</th>\n",
       "      <td>魁皇</td>\n",
       "      <td>0</td>\n",
       "      <td>1.0</td>\n",
       "      <td>1.0</td>\n",
       "      <td>1.0</td>\n",
       "      <td>0.0</td>\n",
       "      <td>1.0</td>\n",
       "      <td>0.0</td>\n",
       "      <td>0.0</td>\n",
       "      <td>1.0</td>\n",
       "      <td>1.0</td>\n",
       "      <td>0.0</td>\n",
       "      <td>0.0</td>\n",
       "      <td>1.0</td>\n",
       "      <td>0.0</td>\n",
       "      <td>0.0</td>\n",
       "      <td>武双山</td>\n",
       "      <td>200001</td>\n",
       "    </tr>\n",
       "  </tbody>\n",
       "</table>\n",
       "</div>"
      ],
      "text/plain": [
       "  wrestler  day_1  day_2  day_3  day_4  day_5  day_6  day_7  day_8  day_9  \\\n",
       "0      蒼樹山      0    1.0    0.0    0.0    0.0    0.0    1.0    0.0    1.0   \n",
       "1      金開山      1    0.0    0.0    1.0    1.0    0.0    1.0    1.0    0.0   \n",
       "2       魁皇      0    1.0    1.0    1.0    0.0    1.0    0.0    0.0    1.0   \n",
       "\n",
       "   day_10  day_11  day_12  day_13  day_14  day_15 final_opponent  datetime  \n",
       "0     1.0     0.0     0.0     0.0     0.0     NaN            NaN    200001  \n",
       "1     0.0     1.0     0.0     0.0     0.0     0.0           和歌乃山    200001  \n",
       "2     1.0     0.0     0.0     1.0     0.0     0.0            武双山    200001  "
      ]
     },
     "execution_count": 4,
     "metadata": {},
     "output_type": "execute_result"
    }
   ],
   "source": [
    "df.head(3)"
   ]
  },
  {
   "cell_type": "code",
   "execution_count": 5,
   "metadata": {},
   "outputs": [],
   "source": [
    "df = df.dropna().reset_index(drop=True)"
   ]
  },
  {
   "cell_type": "code",
   "execution_count": 6,
   "metadata": {
    "scrolled": true
   },
   "outputs": [
    {
     "data": {
      "text/plain": [
       "4340"
      ]
     },
     "execution_count": 6,
     "metadata": {},
     "output_type": "execute_result"
    }
   ],
   "source": [
    "len(df)"
   ]
  },
  {
   "cell_type": "code",
   "execution_count": 7,
   "metadata": {},
   "outputs": [],
   "source": [
    "df.rename(columns={'day_15': 'final_day'}, inplace=True)\n",
    "df['wins_at_day_14'] = df.iloc[:, df.columns.str.startswith('day_')].sum(axis=1)\n",
    "# df.rename(columns={'final_day': 'day_15'}, inplace=True)"
   ]
  },
  {
   "cell_type": "markdown",
   "metadata": {},
   "source": [
    "# features"
   ]
  },
  {
   "cell_type": "code",
   "execution_count": 8,
   "metadata": {
    "scrolled": true
   },
   "outputs": [
    {
     "data": {
      "text/html": [
       "<div>\n",
       "<style scoped>\n",
       "    .dataframe tbody tr th:only-of-type {\n",
       "        vertical-align: middle;\n",
       "    }\n",
       "\n",
       "    .dataframe tbody tr th {\n",
       "        vertical-align: top;\n",
       "    }\n",
       "\n",
       "    .dataframe thead th {\n",
       "        text-align: right;\n",
       "    }\n",
       "</style>\n",
       "<table border=\"1\" class=\"dataframe\">\n",
       "  <thead>\n",
       "    <tr style=\"text-align: right;\">\n",
       "      <th></th>\n",
       "      <th>wrestler</th>\n",
       "      <th>day_1</th>\n",
       "      <th>day_2</th>\n",
       "      <th>day_3</th>\n",
       "      <th>day_4</th>\n",
       "      <th>day_5</th>\n",
       "      <th>day_6</th>\n",
       "      <th>day_7</th>\n",
       "      <th>day_8</th>\n",
       "      <th>day_9</th>\n",
       "      <th>day_10</th>\n",
       "      <th>day_11</th>\n",
       "      <th>day_12</th>\n",
       "      <th>day_13</th>\n",
       "      <th>day_14</th>\n",
       "      <th>final_day</th>\n",
       "      <th>final_opponent</th>\n",
       "      <th>datetime</th>\n",
       "      <th>wins_at_day_14</th>\n",
       "    </tr>\n",
       "  </thead>\n",
       "  <tbody>\n",
       "    <tr>\n",
       "      <th>0</th>\n",
       "      <td>金開山</td>\n",
       "      <td>1</td>\n",
       "      <td>0.0</td>\n",
       "      <td>0.0</td>\n",
       "      <td>1.0</td>\n",
       "      <td>1.0</td>\n",
       "      <td>0.0</td>\n",
       "      <td>1.0</td>\n",
       "      <td>1.0</td>\n",
       "      <td>0.0</td>\n",
       "      <td>0.0</td>\n",
       "      <td>1.0</td>\n",
       "      <td>0.0</td>\n",
       "      <td>0.0</td>\n",
       "      <td>0.0</td>\n",
       "      <td>0.0</td>\n",
       "      <td>和歌乃山</td>\n",
       "      <td>200001</td>\n",
       "      <td>6.0</td>\n",
       "    </tr>\n",
       "    <tr>\n",
       "      <th>1</th>\n",
       "      <td>魁皇</td>\n",
       "      <td>0</td>\n",
       "      <td>1.0</td>\n",
       "      <td>1.0</td>\n",
       "      <td>1.0</td>\n",
       "      <td>0.0</td>\n",
       "      <td>1.0</td>\n",
       "      <td>0.0</td>\n",
       "      <td>0.0</td>\n",
       "      <td>1.0</td>\n",
       "      <td>1.0</td>\n",
       "      <td>0.0</td>\n",
       "      <td>0.0</td>\n",
       "      <td>1.0</td>\n",
       "      <td>0.0</td>\n",
       "      <td>0.0</td>\n",
       "      <td>武双山</td>\n",
       "      <td>200001</td>\n",
       "      <td>7.0</td>\n",
       "    </tr>\n",
       "  </tbody>\n",
       "</table>\n",
       "</div>"
      ],
      "text/plain": [
       "  wrestler  day_1  day_2  day_3  day_4  day_5  day_6  day_7  day_8  day_9  \\\n",
       "0      金開山      1    0.0    0.0    1.0    1.0    0.0    1.0    1.0    0.0   \n",
       "1       魁皇      0    1.0    1.0    1.0    0.0    1.0    0.0    0.0    1.0   \n",
       "\n",
       "   day_10  day_11  day_12  day_13  day_14  final_day final_opponent  datetime  \\\n",
       "0     0.0     1.0     0.0     0.0     0.0        0.0           和歌乃山    200001   \n",
       "1     1.0     0.0     0.0     1.0     0.0        0.0            武双山    200001   \n",
       "\n",
       "   wins_at_day_14  \n",
       "0             6.0  \n",
       "1             7.0  "
      ]
     },
     "execution_count": 8,
     "metadata": {},
     "output_type": "execute_result"
    }
   ],
   "source": [
    "df.head(2)"
   ]
  },
  {
   "cell_type": "markdown",
   "metadata": {},
   "source": [
    "## final_opponent_wins_at_day_14"
   ]
  },
  {
   "cell_type": "code",
   "execution_count": 9,
   "metadata": {},
   "outputs": [],
   "source": [
    "_tmp = df[['wrestler', 'datetime', 'wins_at_day_14']].rename(columns={'wrestler': 'final_opponent', 'wins_at_day_14': 'final_opponent_wins_at_day_14'})\n",
    "df = pd.merge(df, _tmp, on=['final_opponent', 'datetime'], how='left')"
   ]
  },
  {
   "cell_type": "markdown",
   "metadata": {},
   "source": [
    "## wins_till_final_day"
   ]
  },
  {
   "cell_type": "code",
   "execution_count": 10,
   "metadata": {},
   "outputs": [],
   "source": [
    "def calc_wins_till_final_day(row):\n",
    "    cnt = 0\n",
    "    for i in range(14):\n",
    "        if row.iloc[14 - i] == 1:\n",
    "            cnt += 1\n",
    "        else:\n",
    "            return cnt\n",
    "    return cnt\n",
    "\n",
    "\n",
    "def calc_loses_till_final_day(row):\n",
    "    cnt = 0\n",
    "    for i in range(14):\n",
    "        if row.iloc[14 - i] == 0:\n",
    "            cnt += 1\n",
    "        else:\n",
    "            return cnt\n",
    "    return cnt\n",
    "\n",
    "\n",
    "df['wins_till_final_day'] = df.apply(calc_wins_till_final_day, axis=1)\n",
    "df['loses_till_final_day'] = df.apply(calc_loses_till_final_day, axis=1)"
   ]
  },
  {
   "cell_type": "code",
   "execution_count": null,
   "metadata": {},
   "outputs": [],
   "source": []
  },
  {
   "cell_type": "code",
   "execution_count": null,
   "metadata": {},
   "outputs": [],
   "source": []
  },
  {
   "cell_type": "code",
   "execution_count": 11,
   "metadata": {},
   "outputs": [],
   "source": [
    "split_datetime = 201501\n",
    "train = df[df['datetime']<split_datetime]\n",
    "test = df[~(df['datetime']<split_datetime)]"
   ]
  },
  {
   "cell_type": "code",
   "execution_count": 12,
   "metadata": {},
   "outputs": [
    {
     "data": {
      "text/plain": [
       "28"
      ]
     },
     "execution_count": 12,
     "metadata": {},
     "output_type": "execute_result"
    }
   ],
   "source": [
    "len(test['datetime'].unique())"
   ]
  },
  {
   "cell_type": "markdown",
   "metadata": {},
   "source": [
    "# benchmark"
   ]
  },
  {
   "cell_type": "code",
   "execution_count": 13,
   "metadata": {},
   "outputs": [],
   "source": [
    "TRAIN_COL = list(df.iloc[:, df.columns.str.startswith('day_')].columns) + [\n",
    "    'wins_at_day_14',\n",
    "    'final_opponent_wins_at_day_14',\n",
    "    'wins_till_final_day',\n",
    "    'loses_till_final_day'\n",
    "]\n",
    "TARGET = 'final_day'\n",
    "\n",
    "X_train = train[TRAIN_COL]\n",
    "X_test = test[TRAIN_COL]\n",
    "\n",
    "y_train = train[TARGET]\n",
    "y_test = test[TARGET]"
   ]
  },
  {
   "cell_type": "code",
   "execution_count": 14,
   "metadata": {
    "scrolled": true
   },
   "outputs": [
    {
     "name": "stderr",
     "output_type": "stream",
     "text": [
      "/Users/shotaroishihara/project/sumo-predictor/env/lib/python3.6/site-packages/lightgbm/__init__.py:46: UserWarning: Starting from version 2.2.1, the library file in distribution wheels for macOS is built by the Apple Clang (Xcode_8.3.3) compiler.\n",
      "This means that in case of installing LightGBM from PyPI via the ``pip install lightgbm`` command, you don't need to install the gcc compiler anymore.\n",
      "Instead of that, you need to install the OpenMP library, which is required for running LightGBM on the system with the Apple Clang compiler.\n",
      "You can install the OpenMP library by the following command: ``brew install libomp``.\n",
      "  \"You can install the OpenMP library by the following command: ``brew install libomp``.\", UserWarning)\n"
     ]
    }
   ],
   "source": [
    "import pandas as pd\n",
    "import lightgbm as lgb\n",
    "\n",
    "\n",
    "def lgbm(X_tr, X_val, y_tr, y_val, X_test, params, categorical_features):\n",
    "\n",
    "    lgb_train = lgb.Dataset(X_tr, y_tr, categorical_feature=categorical_features)\n",
    "    lgb_eval = lgb.Dataset(X_val, y_val, reference=lgb_train, categorical_feature=categorical_features)\n",
    "\n",
    "    model = lgb.train(\n",
    "        params, lgb_train,\n",
    "        valid_sets=[lgb_train, lgb_eval],\n",
    "        num_boost_round=10000,\n",
    "        early_stopping_rounds=30,\n",
    "        verbose_eval=10\n",
    "    )\n",
    "\n",
    "    y_valid = model.predict(X_val)\n",
    "    y_pred = model.predict(X_test, num_iteration=model.best_iteration)\n",
    "\n",
    "    fold_importance_df = pd.DataFrame()\n",
    "    fold_importance_df[\"Feature\"] = X_tr.columns.values\n",
    "    fold_importance_df[\"importance\"] = model.feature_importance(importance_type='gain')\n",
    "\n",
    "    return y_pred, y_valid, model, fold_importance_df\n"
   ]
  },
  {
   "cell_type": "code",
   "execution_count": 15,
   "metadata": {},
   "outputs": [],
   "source": [
    "from sklearn.model_selection import KFold, TimeSeriesSplit\n",
    "import seaborn as sns\n",
    "\n",
    "\n",
    "lgbm_params = {\n",
    "    'max_depth': 16,\n",
    "    'num_leaves': 4,\n",
    "    'min_data_in_leaf': 10,\n",
    "    'objective': 'binary',\n",
    "    'learning_rate': 0.1,\n",
    "    \"boosting\": \"gbdt\",\n",
    "    \"feature_fraction\": 0.7,\n",
    "    \"bagging_freq\": 1,\n",
    "    \"bagging_fraction\": 0.7,\n",
    "    \"metric\": 'auc',\n",
    "    \"lambda_l1\": 0.3,\n",
    "    \"verbosity\": -1,\n",
    "    \"random_state\": 42,\n",
    "  }\n",
    "\n",
    "categorical_features = list(df.iloc[:, df.columns.str.startswith('day_')].columns)\n",
    "\n",
    "METRIC = 'auc'"
   ]
  },
  {
   "cell_type": "code",
   "execution_count": 16,
   "metadata": {},
   "outputs": [
    {
     "data": {
      "text/plain": [
       "28"
      ]
     },
     "execution_count": 16,
     "metadata": {},
     "output_type": "execute_result"
    }
   ],
   "source": [
    "train_basho, valid_basho = np.split(train['datetime'].unique(), [59])\n",
    "len(valid_basho)"
   ]
  },
  {
   "cell_type": "code",
   "execution_count": null,
   "metadata": {},
   "outputs": [],
   "source": []
  },
  {
   "cell_type": "code",
   "execution_count": 17,
   "metadata": {},
   "outputs": [
    {
     "name": "stderr",
     "output_type": "stream",
     "text": [
      "/Users/shotaroishihara/project/sumo-predictor/env/lib/python3.6/site-packages/lightgbm/basic.py:1205: UserWarning: Using categorical_feature in Dataset.\n",
      "  warnings.warn('Using categorical_feature in Dataset.')\n",
      "/Users/shotaroishihara/project/sumo-predictor/env/lib/python3.6/site-packages/lightgbm/basic.py:762: UserWarning: categorical_feature in param dict is overridden.\n",
      "  warnings.warn('categorical_feature in param dict is overridden.')\n"
     ]
    },
    {
     "name": "stdout",
     "output_type": "stream",
     "text": [
      "Training until validation scores don't improve for 30 rounds.\n",
      "[10]\ttraining's auc: 0.64598\tvalid_1's auc: 0.535319\n",
      "[20]\ttraining's auc: 0.672417\tvalid_1's auc: 0.536924\n",
      "[30]\ttraining's auc: 0.679628\tvalid_1's auc: 0.548367\n",
      "[40]\ttraining's auc: 0.693257\tvalid_1's auc: 0.547214\n",
      "[50]\ttraining's auc: 0.696513\tvalid_1's auc: 0.541035\n",
      "[60]\ttraining's auc: 0.707353\tvalid_1's auc: 0.543888\n",
      "Early stopping, best iteration is:\n",
      "[34]\ttraining's auc: 0.682773\tvalid_1's auc: 0.553034\n",
      "Training until validation scores don't improve for 30 rounds.\n",
      "[10]\ttraining's auc: 0.650219\tvalid_1's auc: 0.536764\n",
      "[20]\ttraining's auc: 0.670612\tvalid_1's auc: 0.544571\n",
      "[30]\ttraining's auc: 0.67419\tvalid_1's auc: 0.554709\n",
      "[40]\ttraining's auc: 0.688106\tvalid_1's auc: 0.561926\n",
      "[50]\ttraining's auc: 0.696728\tvalid_1's auc: 0.556213\n",
      "[60]\ttraining's auc: 0.706148\tvalid_1's auc: 0.556727\n",
      "Early stopping, best iteration is:\n",
      "[33]\ttraining's auc: 0.677284\tvalid_1's auc: 0.565401\n",
      "Training until validation scores don't improve for 30 rounds.\n",
      "[10]\ttraining's auc: 0.633982\tvalid_1's auc: 0.550514\n",
      "[20]\ttraining's auc: 0.651952\tvalid_1's auc: 0.554745\n",
      "[30]\ttraining's auc: 0.658978\tvalid_1's auc: 0.569192\n",
      "[40]\ttraining's auc: 0.672926\tvalid_1's auc: 0.574612\n",
      "[50]\ttraining's auc: 0.681104\tvalid_1's auc: 0.562144\n",
      "[60]\ttraining's auc: 0.687647\tvalid_1's auc: 0.572522\n",
      "Early stopping, best iteration is:\n",
      "[33]\ttraining's auc: 0.663057\tvalid_1's auc: 0.577043\n",
      "Training until validation scores don't improve for 30 rounds.\n",
      "[10]\ttraining's auc: 0.631088\tvalid_1's auc: 0.542511\n",
      "[20]\ttraining's auc: 0.658825\tvalid_1's auc: 0.549182\n",
      "[30]\ttraining's auc: 0.662334\tvalid_1's auc: 0.557288\n",
      "[40]\ttraining's auc: 0.680135\tvalid_1's auc: 0.559794\n",
      "[50]\ttraining's auc: 0.686612\tvalid_1's auc: 0.552411\n",
      "[60]\ttraining's auc: 0.69503\tvalid_1's auc: 0.562336\n",
      "[70]\ttraining's auc: 0.698692\tvalid_1's auc: 0.560757\n",
      "[80]\ttraining's auc: 0.702753\tvalid_1's auc: 0.555917\n",
      "[90]\ttraining's auc: 0.706018\tvalid_1's auc: 0.551657\n",
      "[100]\ttraining's auc: 0.711989\tvalid_1's auc: 0.555441\n",
      "Early stopping, best iteration is:\n",
      "[73]\ttraining's auc: 0.699636\tvalid_1's auc: 0.562579\n",
      "Training until validation scores don't improve for 30 rounds.\n",
      "[10]\ttraining's auc: 0.63392\tvalid_1's auc: 0.545778\n",
      "[20]\ttraining's auc: 0.658104\tvalid_1's auc: 0.553618\n",
      "[30]\ttraining's auc: 0.66656\tvalid_1's auc: 0.560225\n",
      "[40]\ttraining's auc: 0.685992\tvalid_1's auc: 0.568675\n",
      "[50]\ttraining's auc: 0.69297\tvalid_1's auc: 0.561631\n",
      "[60]\ttraining's auc: 0.701464\tvalid_1's auc: 0.566405\n",
      "[70]\ttraining's auc: 0.704419\tvalid_1's auc: 0.565599\n",
      "Early stopping, best iteration is:\n",
      "[44]\ttraining's auc: 0.68968\tvalid_1's auc: 0.56938\n",
      "Training until validation scores don't improve for 30 rounds.\n",
      "[10]\ttraining's auc: 0.63239\tvalid_1's auc: 0.540574\n",
      "[20]\ttraining's auc: 0.653122\tvalid_1's auc: 0.554499\n",
      "[30]\ttraining's auc: 0.666924\tvalid_1's auc: 0.563532\n",
      "[40]\ttraining's auc: 0.682028\tvalid_1's auc: 0.565784\n",
      "[50]\ttraining's auc: 0.689027\tvalid_1's auc: 0.56359\n",
      "[60]\ttraining's auc: 0.695449\tvalid_1's auc: 0.565843\n",
      "[70]\ttraining's auc: 0.701245\tvalid_1's auc: 0.566717\n",
      "Early stopping, best iteration is:\n",
      "[42]\ttraining's auc: 0.68386\tvalid_1's auc: 0.569888\n",
      "Training until validation scores don't improve for 30 rounds.\n",
      "[10]\ttraining's auc: 0.633849\tvalid_1's auc: 0.546834\n",
      "[20]\ttraining's auc: 0.649819\tvalid_1's auc: 0.557392\n",
      "[30]\ttraining's auc: 0.661703\tvalid_1's auc: 0.555573\n",
      "[40]\ttraining's auc: 0.675401\tvalid_1's auc: 0.560451\n",
      "Early stopping, best iteration is:\n",
      "[16]\ttraining's auc: 0.646224\tvalid_1's auc: 0.562753\n",
      "Training until validation scores don't improve for 30 rounds.\n",
      "[10]\ttraining's auc: 0.628922\tvalid_1's auc: 0.542742\n",
      "[20]\ttraining's auc: 0.650403\tvalid_1's auc: 0.552833\n",
      "[30]\ttraining's auc: 0.661019\tvalid_1's auc: 0.551011\n",
      "[40]\ttraining's auc: 0.672915\tvalid_1's auc: 0.557932\n",
      "Early stopping, best iteration is:\n",
      "[17]\ttraining's auc: 0.648735\tvalid_1's auc: 0.560845\n",
      "Training until validation scores don't improve for 30 rounds.\n",
      "[10]\ttraining's auc: 0.631193\tvalid_1's auc: 0.545703\n",
      "[20]\ttraining's auc: 0.644543\tvalid_1's auc: 0.553328\n",
      "[30]\ttraining's auc: 0.663857\tvalid_1's auc: 0.554652\n",
      "[40]\ttraining's auc: 0.669925\tvalid_1's auc: 0.554109\n",
      "[50]\ttraining's auc: 0.676978\tvalid_1's auc: 0.552528\n",
      "Early stopping, best iteration is:\n",
      "[22]\ttraining's auc: 0.648909\tvalid_1's auc: 0.560868\n",
      "Training until validation scores don't improve for 30 rounds.\n",
      "[10]\ttraining's auc: 0.630095\tvalid_1's auc: 0.547359\n",
      "[20]\ttraining's auc: 0.648148\tvalid_1's auc: 0.549153\n",
      "[30]\ttraining's auc: 0.65624\tvalid_1's auc: 0.54648\n",
      "[40]\ttraining's auc: 0.668603\tvalid_1's auc: 0.544222\n",
      "[50]\ttraining's auc: 0.675477\tvalid_1's auc: 0.542146\n",
      "Early stopping, best iteration is:\n",
      "[26]\ttraining's auc: 0.649771\tvalid_1's auc: 0.551473\n",
      "Training until validation scores don't improve for 30 rounds.\n",
      "[10]\ttraining's auc: 0.623882\tvalid_1's auc: 0.529752\n",
      "[20]\ttraining's auc: 0.643039\tvalid_1's auc: 0.530737\n",
      "[30]\ttraining's auc: 0.657971\tvalid_1's auc: 0.539724\n",
      "[40]\ttraining's auc: 0.671912\tvalid_1's auc: 0.545115\n",
      "[50]\ttraining's auc: 0.677484\tvalid_1's auc: 0.544911\n",
      "[60]\ttraining's auc: 0.687042\tvalid_1's auc: 0.550367\n",
      "[70]\ttraining's auc: 0.693349\tvalid_1's auc: 0.549076\n",
      "[80]\ttraining's auc: 0.696153\tvalid_1's auc: 0.545538\n",
      "[90]\ttraining's auc: 0.700102\tvalid_1's auc: 0.541596\n",
      "Early stopping, best iteration is:\n",
      "[61]\ttraining's auc: 0.686033\tvalid_1's auc: 0.551122\n",
      "Training until validation scores don't improve for 30 rounds.\n",
      "[10]\ttraining's auc: 0.630804\tvalid_1's auc: 0.53134\n",
      "[20]\ttraining's auc: 0.647992\tvalid_1's auc: 0.525085\n",
      "[30]\ttraining's auc: 0.65713\tvalid_1's auc: 0.537043\n",
      "[40]\ttraining's auc: 0.664207\tvalid_1's auc: 0.539446\n",
      "[50]\ttraining's auc: 0.671762\tvalid_1's auc: 0.537448\n",
      "[60]\ttraining's auc: 0.684113\tvalid_1's auc: 0.54117\n",
      "[70]\ttraining's auc: 0.68903\tvalid_1's auc: 0.542067\n",
      "[80]\ttraining's auc: 0.691444\tvalid_1's auc: 0.537454\n",
      "[90]\ttraining's auc: 0.697549\tvalid_1's auc: 0.531927\n",
      "[100]\ttraining's auc: 0.703302\tvalid_1's auc: 0.5359\n",
      "Early stopping, best iteration is:\n",
      "[71]\ttraining's auc: 0.689185\tvalid_1's auc: 0.543513\n",
      "Training until validation scores don't improve for 30 rounds.\n",
      "[10]\ttraining's auc: 0.621188\tvalid_1's auc: 0.524007\n",
      "[20]\ttraining's auc: 0.640024\tvalid_1's auc: 0.524779\n",
      "[30]\ttraining's auc: 0.657443\tvalid_1's auc: 0.529953\n",
      "[40]\ttraining's auc: 0.665008\tvalid_1's auc: 0.53767\n",
      "[50]\ttraining's auc: 0.674849\tvalid_1's auc: 0.540176\n",
      "[60]\ttraining's auc: 0.687213\tvalid_1's auc: 0.544632\n",
      "[70]\ttraining's auc: 0.689338\tvalid_1's auc: 0.548632\n",
      "[80]\ttraining's auc: 0.692122\tvalid_1's auc: 0.544987\n",
      "[90]\ttraining's auc: 0.694506\tvalid_1's auc: 0.538353\n",
      "[100]\ttraining's auc: 0.700103\tvalid_1's auc: 0.537389\n",
      "Early stopping, best iteration is:\n",
      "[76]\ttraining's auc: 0.691795\tvalid_1's auc: 0.549538\n",
      "Training until validation scores don't improve for 30 rounds.\n",
      "[10]\ttraining's auc: 0.625837\tvalid_1's auc: 0.531324\n",
      "[20]\ttraining's auc: 0.637841\tvalid_1's auc: 0.53604\n",
      "[30]\ttraining's auc: 0.649721\tvalid_1's auc: 0.539316\n",
      "[40]\ttraining's auc: 0.659869\tvalid_1's auc: 0.54338\n",
      "[50]\ttraining's auc: 0.672745\tvalid_1's auc: 0.544519\n",
      "[60]\ttraining's auc: 0.680317\tvalid_1's auc: 0.550631\n",
      "[70]\ttraining's auc: 0.686171\tvalid_1's auc: 0.551796\n",
      "[80]\ttraining's auc: 0.688873\tvalid_1's auc: 0.547522\n",
      "[90]\ttraining's auc: 0.692069\tvalid_1's auc: 0.540559\n",
      "[100]\ttraining's auc: 0.697415\tvalid_1's auc: 0.542397\n",
      "Early stopping, best iteration is:\n",
      "[70]\ttraining's auc: 0.686171\tvalid_1's auc: 0.551796\n",
      "Training until validation scores don't improve for 30 rounds.\n",
      "[10]\ttraining's auc: 0.617406\tvalid_1's auc: 0.522104\n",
      "[20]\ttraining's auc: 0.639695\tvalid_1's auc: 0.539408\n",
      "[30]\ttraining's auc: 0.649717\tvalid_1's auc: 0.545341\n",
      "[40]\ttraining's auc: 0.65923\tvalid_1's auc: 0.551144\n",
      "[50]\ttraining's auc: 0.663722\tvalid_1's auc: 0.551584\n",
      "[60]\ttraining's auc: 0.676522\tvalid_1's auc: 0.553733\n",
      "[70]\ttraining's auc: 0.684424\tvalid_1's auc: 0.556328\n",
      "[80]\ttraining's auc: 0.68841\tvalid_1's auc: 0.550185\n",
      "[90]\ttraining's auc: 0.692648\tvalid_1's auc: 0.543761\n",
      "[100]\ttraining's auc: 0.695058\tvalid_1's auc: 0.544575\n",
      "Early stopping, best iteration is:\n",
      "[70]\ttraining's auc: 0.684424\tvalid_1's auc: 0.556328\n",
      "Training until validation scores don't improve for 30 rounds.\n",
      "[10]\ttraining's auc: 0.622694\tvalid_1's auc: 0.538003\n",
      "[20]\ttraining's auc: 0.64238\tvalid_1's auc: 0.541698\n",
      "[30]\ttraining's auc: 0.650148\tvalid_1's auc: 0.544103\n",
      "[40]\ttraining's auc: 0.657978\tvalid_1's auc: 0.549494\n",
      "[50]\ttraining's auc: 0.668173\tvalid_1's auc: 0.545235\n",
      "[60]\ttraining's auc: 0.680987\tvalid_1's auc: 0.545756\n",
      "[70]\ttraining's auc: 0.685435\tvalid_1's auc: 0.546666\n",
      "Early stopping, best iteration is:\n",
      "[47]\ttraining's auc: 0.661757\tvalid_1's auc: 0.550226\n",
      "Training until validation scores don't improve for 30 rounds.\n",
      "[10]\ttraining's auc: 0.618433\tvalid_1's auc: 0.535612\n",
      "[20]\ttraining's auc: 0.634673\tvalid_1's auc: 0.543831\n",
      "[30]\ttraining's auc: 0.645282\tvalid_1's auc: 0.549553\n",
      "[40]\ttraining's auc: 0.653494\tvalid_1's auc: 0.556921\n",
      "[50]\ttraining's auc: 0.661199\tvalid_1's auc: 0.554709\n",
      "[60]\ttraining's auc: 0.675953\tvalid_1's auc: 0.548295\n",
      "[70]\ttraining's auc: 0.68198\tvalid_1's auc: 0.545729\n",
      "Early stopping, best iteration is:\n",
      "[47]\ttraining's auc: 0.658534\tvalid_1's auc: 0.559198\n",
      "Training until validation scores don't improve for 30 rounds.\n",
      "[10]\ttraining's auc: 0.617311\tvalid_1's auc: 0.536927\n",
      "[20]\ttraining's auc: 0.631407\tvalid_1's auc: 0.543591\n",
      "[30]\ttraining's auc: 0.640291\tvalid_1's auc: 0.547285\n",
      "[40]\ttraining's auc: 0.651039\tvalid_1's auc: 0.558029\n"
     ]
    },
    {
     "name": "stdout",
     "output_type": "stream",
     "text": [
      "[50]\ttraining's auc: 0.65691\tvalid_1's auc: 0.553372\n",
      "[60]\ttraining's auc: 0.669536\tvalid_1's auc: 0.550792\n",
      "[70]\ttraining's auc: 0.677528\tvalid_1's auc: 0.548181\n",
      "Early stopping, best iteration is:\n",
      "[44]\ttraining's auc: 0.653512\tvalid_1's auc: 0.559627\n",
      "Training until validation scores don't improve for 30 rounds.\n",
      "[10]\ttraining's auc: 0.616191\tvalid_1's auc: 0.533396\n",
      "[20]\ttraining's auc: 0.638358\tvalid_1's auc: 0.540651\n",
      "[30]\ttraining's auc: 0.648322\tvalid_1's auc: 0.545029\n",
      "[40]\ttraining's auc: 0.658592\tvalid_1's auc: 0.554596\n",
      "[50]\ttraining's auc: 0.662962\tvalid_1's auc: 0.554103\n",
      "[60]\ttraining's auc: 0.673681\tvalid_1's auc: 0.550845\n",
      "[70]\ttraining's auc: 0.68294\tvalid_1's auc: 0.541562\n",
      "Early stopping, best iteration is:\n",
      "[45]\ttraining's auc: 0.659734\tvalid_1's auc: 0.55715\n",
      "Training until validation scores don't improve for 30 rounds.\n",
      "[10]\ttraining's auc: 0.623798\tvalid_1's auc: 0.542364\n",
      "[20]\ttraining's auc: 0.63546\tvalid_1's auc: 0.548205\n",
      "[30]\ttraining's auc: 0.640891\tvalid_1's auc: 0.551401\n",
      "[40]\ttraining's auc: 0.652897\tvalid_1's auc: 0.557703\n",
      "[50]\ttraining's auc: 0.659748\tvalid_1's auc: 0.559283\n",
      "[60]\ttraining's auc: 0.672171\tvalid_1's auc: 0.556029\n",
      "[70]\ttraining's auc: 0.681598\tvalid_1's auc: 0.553705\n",
      "Early stopping, best iteration is:\n",
      "[45]\ttraining's auc: 0.657755\tvalid_1's auc: 0.562247\n",
      "Training until validation scores don't improve for 30 rounds.\n",
      "[10]\ttraining's auc: 0.614625\tvalid_1's auc: 0.549171\n",
      "[20]\ttraining's auc: 0.63131\tvalid_1's auc: 0.552108\n",
      "[30]\ttraining's auc: 0.639223\tvalid_1's auc: 0.552463\n",
      "[40]\ttraining's auc: 0.650251\tvalid_1's auc: 0.555174\n",
      "Early stopping, best iteration is:\n",
      "[17]\ttraining's auc: 0.627259\tvalid_1's auc: 0.560036\n",
      "Training until validation scores don't improve for 30 rounds.\n",
      "[10]\ttraining's auc: 0.61567\tvalid_1's auc: 0.534238\n",
      "[20]\ttraining's auc: 0.630606\tvalid_1's auc: 0.551453\n",
      "[30]\ttraining's auc: 0.635256\tvalid_1's auc: 0.546025\n",
      "[40]\ttraining's auc: 0.646153\tvalid_1's auc: 0.554526\n",
      "[50]\ttraining's auc: 0.65441\tvalid_1's auc: 0.557593\n",
      "[60]\ttraining's auc: 0.666292\tvalid_1's auc: 0.553835\n",
      "[70]\ttraining's auc: 0.668848\tvalid_1's auc: 0.555249\n",
      "Early stopping, best iteration is:\n",
      "[48]\ttraining's auc: 0.65128\tvalid_1's auc: 0.557742\n",
      "Training until validation scores don't improve for 30 rounds.\n",
      "[10]\ttraining's auc: 0.609573\tvalid_1's auc: 0.551299\n",
      "[20]\ttraining's auc: 0.627246\tvalid_1's auc: 0.56811\n",
      "[30]\ttraining's auc: 0.637501\tvalid_1's auc: 0.571325\n",
      "[40]\ttraining's auc: 0.645094\tvalid_1's auc: 0.573083\n",
      "[50]\ttraining's auc: 0.654744\tvalid_1's auc: 0.571512\n",
      "[60]\ttraining's auc: 0.662377\tvalid_1's auc: 0.569287\n",
      "Early stopping, best iteration is:\n",
      "[38]\ttraining's auc: 0.643477\tvalid_1's auc: 0.575731\n",
      "Training until validation scores don't improve for 30 rounds.\n",
      "[10]\ttraining's auc: 0.609246\tvalid_1's auc: 0.553648\n",
      "[20]\ttraining's auc: 0.634359\tvalid_1's auc: 0.564569\n",
      "[30]\ttraining's auc: 0.638601\tvalid_1's auc: 0.567388\n",
      "[40]\ttraining's auc: 0.646515\tvalid_1's auc: 0.572444\n",
      "[50]\ttraining's auc: 0.651789\tvalid_1's auc: 0.573227\n",
      "[60]\ttraining's auc: 0.659614\tvalid_1's auc: 0.571836\n",
      "[70]\ttraining's auc: 0.662512\tvalid_1's auc: 0.573338\n",
      "[80]\ttraining's auc: 0.670356\tvalid_1's auc: 0.570038\n",
      "Early stopping, best iteration is:\n",
      "[54]\ttraining's auc: 0.654087\tvalid_1's auc: 0.575769\n",
      "Training until validation scores don't improve for 30 rounds.\n",
      "[10]\ttraining's auc: 0.618237\tvalid_1's auc: 0.545239\n",
      "[20]\ttraining's auc: 0.636655\tvalid_1's auc: 0.560908\n",
      "[30]\ttraining's auc: 0.641357\tvalid_1's auc: 0.562219\n",
      "[40]\ttraining's auc: 0.648284\tvalid_1's auc: 0.562051\n",
      "Early stopping, best iteration is:\n",
      "[17]\ttraining's auc: 0.633692\tvalid_1's auc: 0.570797\n",
      "Training until validation scores don't improve for 30 rounds.\n",
      "[10]\ttraining's auc: 0.619669\tvalid_1's auc: 0.54921\n",
      "[20]\ttraining's auc: 0.636891\tvalid_1's auc: 0.563902\n",
      "[30]\ttraining's auc: 0.640034\tvalid_1's auc: 0.56626\n",
      "[40]\ttraining's auc: 0.643976\tvalid_1's auc: 0.567711\n",
      "[50]\ttraining's auc: 0.652328\tvalid_1's auc: 0.565813\n",
      "[60]\ttraining's auc: 0.6626\tvalid_1's auc: 0.564342\n",
      "[70]\ttraining's auc: 0.665446\tvalid_1's auc: 0.564947\n",
      "Early stopping, best iteration is:\n",
      "[45]\ttraining's auc: 0.647421\tvalid_1's auc: 0.569383\n",
      "Training until validation scores don't improve for 30 rounds.\n",
      "[10]\ttraining's auc: 0.609586\tvalid_1's auc: 0.543199\n",
      "[20]\ttraining's auc: 0.636411\tvalid_1's auc: 0.546616\n",
      "[30]\ttraining's auc: 0.640941\tvalid_1's auc: 0.551933\n",
      "[40]\ttraining's auc: 0.647805\tvalid_1's auc: 0.554606\n",
      "[50]\ttraining's auc: 0.656293\tvalid_1's auc: 0.554189\n",
      "[60]\ttraining's auc: 0.660581\tvalid_1's auc: 0.550269\n",
      "[70]\ttraining's auc: 0.665075\tvalid_1's auc: 0.548698\n",
      "Early stopping, best iteration is:\n",
      "[48]\ttraining's auc: 0.651759\tvalid_1's auc: 0.557103\n",
      "Training until validation scores don't improve for 30 rounds.\n",
      "[10]\ttraining's auc: 0.611187\tvalid_1's auc: 0.539811\n",
      "[20]\ttraining's auc: 0.632582\tvalid_1's auc: 0.554438\n",
      "[30]\ttraining's auc: 0.639721\tvalid_1's auc: 0.556447\n",
      "[40]\ttraining's auc: 0.646693\tvalid_1's auc: 0.557309\n",
      "Early stopping, best iteration is:\n",
      "[17]\ttraining's auc: 0.632898\tvalid_1's auc: 0.56085\n",
      "Training until validation scores don't improve for 30 rounds.\n",
      "[10]\ttraining's auc: 0.610669\tvalid_1's auc: 0.550533\n",
      "[20]\ttraining's auc: 0.635187\tvalid_1's auc: 0.557052\n",
      "[30]\ttraining's auc: 0.639831\tvalid_1's auc: 0.556252\n",
      "[40]\ttraining's auc: 0.645188\tvalid_1's auc: 0.557154\n",
      "[50]\ttraining's auc: 0.651075\tvalid_1's auc: 0.55578\n",
      "Early stopping, best iteration is:\n",
      "[21]\ttraining's auc: 0.634975\tvalid_1's auc: 0.558987\n",
      "Training until validation scores don't improve for 30 rounds.\n",
      "[10]\ttraining's auc: 0.61273\tvalid_1's auc: 0.555242\n",
      "[20]\ttraining's auc: 0.631037\tvalid_1's auc: 0.56152\n",
      "[30]\ttraining's auc: 0.637312\tvalid_1's auc: 0.566284\n",
      "[40]\ttraining's auc: 0.644521\tvalid_1's auc: 0.567885\n",
      "[50]\ttraining's auc: 0.653217\tvalid_1's auc: 0.569901\n",
      "[60]\ttraining's auc: 0.658328\tvalid_1's auc: 0.565713\n",
      "[70]\ttraining's auc: 0.66137\tvalid_1's auc: 0.56789\n",
      "Early stopping, best iteration is:\n",
      "[47]\ttraining's auc: 0.648541\tvalid_1's auc: 0.571852\n"
     ]
    }
   ],
   "source": [
    "y_preds = []\n",
    "models = []\n",
    "feature_importances = pd.DataFrame()\n",
    "# oof_train = np.zeros((len(X_train),))\n",
    "\n",
    "for split_index in range(30, 60):\n",
    "\n",
    "    train_basho, valid_basho = np.split(train['datetime'].unique(), [split_index])\n",
    "    valid_basho = valid_basho[0:28]\n",
    "\n",
    "    X_tr = X_train[train['datetime'].isin(train_basho)]\n",
    "    X_val = X_train[train['datetime'].isin(valid_basho)]\n",
    "\n",
    "    y_tr = y_train[train['datetime'].isin(train_basho)]\n",
    "    y_val = y_train[train['datetime'].isin(valid_basho)]\n",
    "\n",
    "    y_pred, y_val, model, fold_importance_df = lgbm(\n",
    "        X_tr, X_val, y_tr, y_val, X_test, lgbm_params, categorical_features\n",
    "    )\n",
    "\n",
    "#     oof_train[valid_index] = y_val\n",
    "    y_preds.append(y_pred)\n",
    "    models.append(model)\n",
    "    feature_importances = pd.concat([feature_importances, fold_importance_df], axis=0)\n"
   ]
  },
  {
   "cell_type": "code",
   "execution_count": 18,
   "metadata": {},
   "outputs": [
    {
     "name": "stdout",
     "output_type": "stream",
     "text": [
      "===CV scores===\n",
      "0.561075309780923\n",
      "[0.553033977312532, 0.5654011499993251, 0.5770425426630289, 0.5625791128699151, 0.5693799978604477, 0.5698882215548883, 0.5627532601488249, 0.5608446576072476, 0.560868220806109, 0.551473063973064, 0.5511221819645733, 0.5435133961190481, 0.5495378742214185, 0.5517955801104972, 0.5563276153177545, 0.5502257073715562, 0.5591984763219368, 0.5596266230528353, 0.5571498602223194, 0.5622469332801436, 0.5600356990622336, 0.5577421670888095, 0.5757306807964246, 0.5757692307692308, 0.5707971713275474, 0.5693833931523975, 0.5571029142918593, 0.56085019259699, 0.5589869253336499, 0.5718524662310843]\n"
     ]
    }
   ],
   "source": [
    "scores = [\n",
    "    m.best_score['valid_1'][METRIC] for m in models\n",
    "]\n",
    "score = sum(scores) / len(scores)\n",
    "print('===CV scores===')\n",
    "print(score)\n",
    "print(scores)"
   ]
  },
  {
   "cell_type": "code",
   "execution_count": 19,
   "metadata": {},
   "outputs": [
    {
     "data": {
      "image/png": "[encoded data removed]",
      "text/plain": [
       "<Figure size 1008x1872 with 1 Axes>"
      ]
     },
     "metadata": {
      "needs_background": "light"
     },
     "output_type": "display_data"
    }
   ],
   "source": [
    "cols = feature_importances.groupby('Feature').mean().sort_values(by=\"importance\", ascending=False)[:200].index\n",
    "\n",
    "best_features = feature_importances.loc[feature_importances.Feature.isin(cols)]\n",
    "plt.figure(figsize=(14, 26))\n",
    "sns.barplot(x=\"importance\", y=\"Feature\", data=best_features.sort_values(by=\"importance\",ascending=False))\n",
    "plt.title('LightGBM Features (averaged over folds)')\n",
    "plt.tight_layout()"
   ]
  },
  {
   "cell_type": "code",
   "execution_count": 20,
   "metadata": {},
   "outputs": [
    {
     "data": {
      "text/plain": [
       "array([0.50996899, 0.38365022, 0.48725235, 0.4154235 , 0.47479715,\n",
       "       0.4252278 , 0.54301298, 0.50624906, 0.65221191, 0.45144476])"
      ]
     },
     "execution_count": 20,
     "metadata": {},
     "output_type": "execute_result"
    }
   ],
   "source": [
    "y_sub = sum(y_preds) / len(y_preds)\n",
    "y_sub[:10]"
   ]
  },
  {
   "cell_type": "code",
   "execution_count": 21,
   "metadata": {},
   "outputs": [
    {
     "data": {
      "text/plain": [
       "(array([ 16.,  55., 142., 219., 270., 201.,  90.,  32.,  22.,   3.]),\n",
       " array([0.33134243, 0.36977251, 0.4082026 , 0.44663268, 0.48506276,\n",
       "        0.52349284, 0.56192292, 0.600353  , 0.63878308, 0.67721316,\n",
       "        0.71564325]),\n",
       " <a list of 10 Patch objects>)"
      ]
     },
     "execution_count": 21,
     "metadata": {},
     "output_type": "execute_result"
    },
    {
     "data": {
      "image/png": "[encoded data removed]",
      "text/plain": [
       "<Figure size 432x288 with 1 Axes>"
      ]
     },
     "metadata": {
      "needs_background": "light"
     },
     "output_type": "display_data"
    }
   ],
   "source": [
    "plt.hist(y_sub)"
   ]
  },
  {
   "cell_type": "code",
   "execution_count": 22,
   "metadata": {},
   "outputs": [
    {
     "data": {
      "image/png": "[encoded data removed]",
      "text/plain": [
       "<Figure size 1080x576 with 1 Axes>"
      ]
     },
     "metadata": {
      "needs_background": "light"
     },
     "output_type": "display_data"
    }
   ],
   "source": [
    "from sklearn import metrics\n",
    "\n",
    "fpr, tpr, thresholds = metrics.roc_curve(y_test, y_sub)\n",
    "auc = metrics.auc(fpr, tpr)\n",
    "\n",
    "plt.figure(figsize=(15, 8))\n",
    "plt.rcParams[\"font.size\"] = 18\n",
    "plt.plot(fpr, tpr, label='ROC curve (area = %.2f)'%auc)\n",
    "plt.legend()\n",
    "plt.title('ROC curve')\n",
    "plt.xlabel('False Positive Rate')\n",
    "plt.ylabel('True Positive Rate')\n",
    "plt.grid(True)"
   ]
  },
  {
   "cell_type": "code",
   "execution_count": 23,
   "metadata": {},
   "outputs": [
    {
     "data": {
      "text/plain": [
       "array([1, 0, 0, 0, 0, 0, 1, 1, 1, 0])"
      ]
     },
     "execution_count": 23,
     "metadata": {},
     "output_type": "execute_result"
    }
   ],
   "source": [
    "y_sub = np.where(y_sub > 0.5, 1, 0)\n",
    "y_sub[:10]"
   ]
  },
  {
   "cell_type": "code",
   "execution_count": 24,
   "metadata": {},
   "outputs": [
    {
     "data": {
      "text/plain": [
       "array([[299, 221],\n",
       "       [245, 285]])"
      ]
     },
     "execution_count": 24,
     "metadata": {},
     "output_type": "execute_result"
    }
   ],
   "source": [
    "from sklearn.metrics import confusion_matrix\n",
    "confusion_matrix(y_test, y_sub)"
   ]
  },
  {
   "cell_type": "code",
   "execution_count": 25,
   "metadata": {},
   "outputs": [
    {
     "data": {
      "text/plain": [
       "0.5561904761904762"
      ]
     },
     "execution_count": 25,
     "metadata": {},
     "output_type": "execute_result"
    }
   ],
   "source": [
    "from sklearn.metrics import accuracy_score\n",
    "accuracy_score(y_test, y_sub)"
   ]
  },
  {
   "cell_type": "code",
   "execution_count": null,
   "metadata": {},
   "outputs": [],
   "source": []
  }
 ],
 "metadata": {
  "kernelspec": {
   "display_name": "Python 3",
   "language": "python",
   "name": "python3"
  },
  "language_info": {
   "codemirror_mode": {
    "name": "ipython",
    "version": 3
   },
   "file_extension": ".py",
   "mimetype": "text/x-python",
   "name": "python",
   "nbconvert_exporter": "python",
   "pygments_lexer": "ipython3",
   "version": "3.6.8"
  }
 },
 "nbformat": 4,
 "nbformat_minor": 2
}
